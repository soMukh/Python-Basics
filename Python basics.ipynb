{
 "cells": [
  {
   "cell_type": "markdown",
   "metadata": {},
   "source": [
    "Python Basics Questions"
   ]
  },
  {
   "cell_type": "markdown",
   "metadata": {},
   "source": [
    "1. What is Python, and why is it popular?\n",
    "\n",
    "-> Python is a high-level, interpreted programming language known for its simplicity, readability, and versatility.\n",
    "\n",
    "Python is popular because:\n",
    "a. Ease of use: Simple and readable syntax.\n",
    "b. Powerful Libraries: Pandas, NumPy, Scikit-learn, TensorFlow, and Matplotlib simplify data manipulation and modeling.\n",
    "c. Flexibility: Supports multiple programming paradigms (OOP, functional, scripting).\n",
    "d. Strong Community Support: Open-source ecosystem with active development.\n",
    "e. Integration Capabilities: Works well with databases, web services, and cloud computing.\n",
    "f. Cross-Platform Compatibility: Works on Windows, macOS, Linux, and even mobile devices.\n",
    "g. Versatile & Multi-Purpose: Used in web development, AI, data science, automation, game development, cybersecurity, etc.\n",
    "\n",
    "2. What is an interpreter in Python?\n",
    "\n",
    "-> An interpreter in Python is a software program that executes Python code line by line, rather than compiling the entire code at once like a compiler does.\n",
    "Python is an interpreted language, meaning that the Python interpreter reads, translates, and executes the code in real-time.\n",
    "\n",
    "3. What are pre-defined keywords in Python?\n",
    "\n",
    "-> Keywords are reserved words in Python that have special meanings and cannot be used as identifiers (variable names, function names, etc.). \n",
    "Examples of keywords include if, else, while, for, def, class, import, try, except, return, True, False, None, etc.\n",
    "Keywords are case-sensitive and cannot be redefined or overridden within a Python program.\n",
    "\n",
    "4. Can keywords be used as variable names?\n",
    "\n",
    "-> No, Python keywords cannot be used as variable names because they have special meanings in the language.\n",
    "\n",
    "5. What is mutability in Python?\n",
    "\n",
    "-> Mutable objects, such as lists and dictionaries, can be modified after creation, this is called mutability in Python. \n",
    "Mutability affects how objects are stored and manipulated in memory, impacting performance, memory usage, and concurrency in Python programs. \n",
    "\n",
    "Example:\n",
    "my_list = [1, 2, 3]\n",
    "my_list.append(4)  # List is mutable\n",
    "\n",
    "6. Why are lists mutable, but tuples are immutable?\n",
    "\n",
    "-> Lists are mutable because they can be modified in place.\n",
    "Example:\n",
    "my_list = [1, 2, 3]\n",
    "my_list.append(4)  # List is mutable\n",
    "\n",
    "Tuples are mmutable because they cannot be changed after creation.\n",
    "Example:\n",
    "my_tuple = (1, 2, 3)\n",
    "my_tuple[0] = 5  # This would raise an error since tuples are immutable\n",
    "\n",
    "7. What is the difference between “==” and “is” operators in Python?\n",
    "\n",
    "->  == (Equality Operator) → Compares Values\n",
    "a.Checks whether two variables have the same value.\n",
    "b. Works for all data types (numbers, strings, lists, etc.).\n",
    "Example:\n",
    "a = [1, 2, 3]\n",
    "b = [1, 2, 3]\n",
    "print(a == b)  # True → Because values are the same\n",
    "\n",
    "is (Identity Operator) → Compares Memory Addresses\n",
    "a. Checks whether two variables refer to the same object in memory.\n",
    "b. Used for checking object identity, not just value.\n",
    "Example:\n",
    "a = [1, 2, 3]\n",
    "b = [1, 2, 3]\n",
    "print(a is b)  # False → Different objects in memory\n",
    "a = [1, 2, 3]\n",
    "b = a  # Both variables now point to the same object\n",
    "print(a is b)  # True → Same memory reference\n",
    "\n",
    "8. What are logical operators in Python?\n",
    "\n",
    "->  Logical operators in Python are used to combine conditional statements and return True or False based on the conditions.\n",
    "Logical Operators: and, or, not\n",
    "\n",
    "9. What is type casting in Python?\n",
    "\n",
    "-> Type casting is converting one data type into another using functions like:\n",
    "int(), float(), str(), list(), tuple(), set(), dict(), bool()\n",
    "Example:\n",
    "num_str = \"100\"\n",
    "num_int = int(num_str)  # Explicit casting\n",
    "\n",
    "10. What is the difference between implicit and explicit type casting?\n",
    "\n",
    "-> Implicit Casting: Automatically handled by Python. \n",
    "num = 5   # int\n",
    "result = num + 2.5  # int + float → float (implicit)\n",
    "\n",
    "Explicit Casting: Manually converting data type. \n",
    "num = \"10\"\n",
    "num_int = int(num)  # Explicit (str → int)\n",
    "\n",
    "11. What is the purpose of conditional statements in Python?\n",
    "\n",
    "-> Conditional statements control program flow using if, elif, and else.\n",
    "a. Used in decision-making.\n",
    "b. Helps execute different code blocks based on conditions.\n",
    "Example:\n",
    "age = 18\n",
    "if age >= 18:\n",
    "    print(\"Eligible to vote\")\n",
    "else:\n",
    "    print(\"Not eligible\")\n",
    "\n",
    "12. How does the elif statement work?\n",
    "\n",
    "-> The elif (short for \"else if\") statement in Python is used for multiple conditional checks in an if-elif-else structure. It allows us to test multiple conditions sequentially, executing only the first True condition.\n",
    "\n",
    "Example:\n",
    "marks = 85\n",
    "if marks >= 90:\n",
    "    print(\"Grade: A\")\n",
    "elif marks >= 80:\n",
    "    print(\"Grade: B\")\n",
    "elif marks >= 70:\n",
    "    print(\"Grade: C\")\n",
    "else:\n",
    "    print(\"Grade: D\")\n",
    "\n",
    "13. What is the difference between for and while loops?\n",
    "\n",
    "-> For Loop: \n",
    "a. Used for iterating over a sequence of elements.\n",
    "b. Used when the number of iterations is known.\n",
    "While Loop: \n",
    "a. Used for executing code until a specified condition becomes False.\n",
    "b. Used when the condition is unknown beforehand.\n",
    "\n",
    "14. Describe a scenario where a while loop is more suitable than a for loop.\n",
    "\n",
    "-> A while loop is more suitable when the number of iterations is not known beforehand and depends on a condition being met.\n",
    "\n",
    "Example:\n",
    "correctPpassword = \"soham123\"\n",
    "userInput = \"\"\n",
    "while userInput != correctPassword:\n",
    "    userInput = input(\"Enter your password: \")\n",
    "print(\"Access Granted!\")"
   ]
  },
  {
   "cell_type": "markdown",
   "metadata": {},
   "source": [
    " Practical Questions"
   ]
  },
  {
   "cell_type": "code",
   "execution_count": 35,
   "metadata": {},
   "outputs": [
    {
     "name": "stdout",
     "output_type": "stream",
     "text": [
      "Hello, World!\n"
     ]
    }
   ],
   "source": [
    "# 1. Write a Python program to print \"Hello, World!\"\n",
    "\n",
    "print(\"Hello, World!\")"
   ]
  },
  {
   "cell_type": "code",
   "execution_count": 36,
   "metadata": {},
   "outputs": [
    {
     "name": "stdout",
     "output_type": "stream",
     "text": [
      "My name is Soham Mukherjee and age is 23\n"
     ]
    }
   ],
   "source": [
    "# 2. Write a Python program that displays your name and age.\n",
    "\n",
    "name=\"Soham Mukherjee\"\n",
    "age=23\n",
    "print(f\"My name is {name} and age is {age}\")"
   ]
  },
  {
   "cell_type": "code",
   "execution_count": 37,
   "metadata": {},
   "outputs": [
    {
     "name": "stdout",
     "output_type": "stream",
     "text": [
      "All the pre-defined keywords in Python are False, None, True, and, as, assert, async, await, break, class, continue, def, del, elif, else, except, finally, for, from, global, if, import, in, is, lambda, nonlocal, not, or, pass, raise, return, try, while, with, yield "
     ]
    }
   ],
   "source": [
    "# 3. Write code to print all the pre-defined keywords in Python using the keyword library.\n",
    "\n",
    "import keyword\n",
    "print(\"All the pre-defined keywords in Python are\",end=\" \")\n",
    "for i in keyword.kwlist:\n",
    "    if keyword.kwlist.index(i)==len(keyword.kwlist)-1:\n",
    "        print(i,end=\" \")\n",
    "    else:\n",
    "        print(i,end=\", \")"
   ]
  },
  {
   "cell_type": "code",
   "execution_count": 39,
   "metadata": {},
   "outputs": [
    {
     "name": "stdout",
     "output_type": "stream",
     "text": [
      "True is a Python keyword\n"
     ]
    }
   ],
   "source": [
    "# 4. Write a program that checks if a given word is a Python keyword.\n",
    "\n",
    "import keyword\n",
    "word=input(\"Enter a word : \")\n",
    "if word in keyword.kwlist:\n",
    "    print(f\"{word} is a Python keyword\")\n",
    "else:\n",
    "    print(f\"{word} isn't a Python keyword\")"
   ]
  },
  {
   "cell_type": "code",
   "execution_count": 40,
   "metadata": {},
   "outputs": [
    {
     "name": "stdout",
     "output_type": "stream",
     "text": [
      "Original list is [1, 2, 3, 4, 5]\n",
      "List after changing an element is [1, 2, 6, 4, 5]\n",
      "Original tuple is (1, 2, 3, 4, 5)\n"
     ]
    },
    {
     "ename": "TypeError",
     "evalue": "'tuple' object does not support item assignment",
     "output_type": "error",
     "traceback": [
      "\u001b[31m---------------------------------------------------------------------------\u001b[39m",
      "\u001b[31mTypeError\u001b[39m                                 Traceback (most recent call last)",
      "\u001b[36mCell\u001b[39m\u001b[36m \u001b[39m\u001b[32mIn[40]\u001b[39m\u001b[32m, line 9\u001b[39m\n\u001b[32m      7\u001b[39m \u001b[38;5;28mprint\u001b[39m(\u001b[33mf\u001b[39m\u001b[33m\"\u001b[39m\u001b[33mList after changing an element is \u001b[39m\u001b[38;5;132;01m{\u001b[39;00mlistNumber\u001b[38;5;132;01m}\u001b[39;00m\u001b[33m\"\u001b[39m)\n\u001b[32m      8\u001b[39m \u001b[38;5;28mprint\u001b[39m(\u001b[33mf\u001b[39m\u001b[33m\"\u001b[39m\u001b[33mOriginal tuple is \u001b[39m\u001b[38;5;132;01m{\u001b[39;00mtupleNumber\u001b[38;5;132;01m}\u001b[39;00m\u001b[33m\"\u001b[39m)\n\u001b[32m----> \u001b[39m\u001b[32m9\u001b[39m \u001b[43mtupleNumber\u001b[49m\u001b[43m[\u001b[49m\u001b[32;43m2\u001b[39;49m\u001b[43m]\u001b[49m=\u001b[32m6\u001b[39m\n\u001b[32m     10\u001b[39m \u001b[38;5;28mprint\u001b[39m(\u001b[33mf\u001b[39m\u001b[33m\"\u001b[39m\u001b[33mTuple after changing an element is \u001b[39m\u001b[38;5;132;01m{\u001b[39;00mtupleNumber\u001b[38;5;132;01m}\u001b[39;00m\u001b[33m\"\u001b[39m)\n",
      "\u001b[31mTypeError\u001b[39m: 'tuple' object does not support item assignment"
     ]
    }
   ],
   "source": [
    "# 5. Create a list and tuple in Python, and demonstrate how attempting to change an element works differently for each.\n",
    "\n",
    "listNumber=[1,2,3,4,5]\n",
    "tupleNumber=(1,2,3,4,5)\n",
    "print(f\"Original list is {listNumber}\")\n",
    "listNumber[2]=6\n",
    "print(f\"List after changing an element is {listNumber}\")\n",
    "print(f\"Original tuple is {tupleNumber}\")\n",
    "tupleNumber[2]=6\n",
    "print(f\"Tuple after changing an element is {tupleNumber}\")"
   ]
  },
  {
   "cell_type": "code",
   "execution_count": 41,
   "metadata": {},
   "outputs": [
    {
     "name": "stdout",
     "output_type": "stream",
     "text": [
      "Before function (immutable) : 100\n",
      "Before function (mutable) : [1, 'book', 4.2]\n",
      "Inside function (immutable) : 101\n",
      "Inside function (mutable) : [1, 'book', 4.2, 'name']\n",
      "After function (immutable) : 100\n",
      "After function (mutable) : [1, 'book', 4.2, 'name']\n"
     ]
    }
   ],
   "source": [
    "# 6. Write a function to demonstrate the behavior of mutable and immutable arguments.\n",
    "\n",
    "def function(immutable,mutable):\n",
    "    immutable=immutable+1 # Creates a new immutable argument object\n",
    "    print(f\"Inside function (immutable) : {immutable}\")\n",
    "    mutable.append(\"name\") # Modifies existing mutable argument\n",
    "    print(f\"Inside function (mutable) : {mutable}\")        \n",
    "immutable=100\n",
    "mutable=[1,\"book\",4.2]\n",
    "print(f\"Before function (immutable) : {immutable}\")\n",
    "print(f\"Before function (mutable) : {mutable}\")\n",
    "function(immutable,mutable)\n",
    "print(f\"After function (immutable) : {immutable}\") # Immutable argument remains unchanged\n",
    "print(f\"After function (mutable) : {mutable}\") # Mutable argument gets modified"
   ]
  },
  {
   "cell_type": "code",
   "execution_count": 42,
   "metadata": {},
   "outputs": [
    {
     "name": "stdout",
     "output_type": "stream",
     "text": [
      "Before function (immutable) : 100\n",
      "Before function (mutable) : [1, 'book', 4.2]\n",
      "Inside function (immutable) : 101\n",
      "Inside function (mutable) : [1, 'book', 4.2, 'name']\n",
      "After function (immutable) : 100\n",
      "After function (mutable) : [1, 'book', 4.2, 'name']\n"
     ]
    }
   ],
   "source": [
    "# 7. Write a function to demonstrate the behavior of mutable and immutable arguments.\n",
    "\n",
    "def function(immutable,mutable):\n",
    "    immutable=immutable+1 # Creates a new immutable argument object\n",
    "    print(f\"Inside function (immutable) : {immutable}\")\n",
    "    mutable.append(\"name\") # Modifies existing mutable argument\n",
    "    print(f\"Inside function (mutable) : {mutable}\")        \n",
    "immutable=100\n",
    "mutable=[1,\"book\",4.2]\n",
    "print(f\"Before function (immutable) : {immutable}\")\n",
    "print(f\"Before function (mutable) : {mutable}\")\n",
    "function(immutable,mutable)\n",
    "print(f\"After function (immutable) : {immutable}\") # Immutable argument remains unchanged\n",
    "print(f\"After function (mutable) : {mutable}\") # Mutable argument gets modified"
   ]
  },
  {
   "cell_type": "code",
   "execution_count": null,
   "metadata": {},
   "outputs": [
    {
     "name": "stdout",
     "output_type": "stream",
     "text": [
      "Eligible for loan\n"
     ]
    }
   ],
   "source": [
    "# 8. Write a program to demonstrate the use of logical operators.\n",
    "\n",
    "lAge=int(input(\"Enter your age : \"))\n",
    "lSalary=int(input(\"Enter your salary : \"))\n",
    "if lAge>=25 and lSalary>=50000:\n",
    "    print(\"Eligible for loan\")\n",
    "elif lAge>=25 or lSalary>=50000:\n",
    "    print(\"Eligible for loan subject to manual inspection\")\n",
    "elif not(lAge>=25) and not(lSalary>=50000):\n",
    "    print(\"Ineligible for loan\")\n",
    "    "
   ]
  },
  {
   "cell_type": "code",
   "execution_count": 43,
   "metadata": {},
   "outputs": [
    {
     "name": "stdout",
     "output_type": "stream",
     "text": [
      "Float input is 10.0\n"
     ]
    }
   ],
   "source": [
    "# 9. Write a Python program to convert user input from string to integer, float, and boolean types.\n",
    "\n",
    "string=input(\"Enter a value : \")\n",
    "if \".\" in string:\n",
    "    if string.replace(\".\",\"\",1).isdigit():\n",
    "        print(f\"Float input is {float(string)}\")\n",
    "    else:\n",
    "        print(f\"Boolean input is {bool(string)}\")\n",
    "else:\n",
    "    if string.isdigit():\n",
    "        print(f\"Integer input is {int(string)}\")\n",
    "    else:\n",
    "        print(f\"Boolean input is {bool(string)}\")"
   ]
  },
  {
   "cell_type": "code",
   "execution_count": 44,
   "metadata": {},
   "outputs": [
    {
     "name": "stdout",
     "output_type": "stream",
     "text": [
      "Original list is ['1', '4', '21.2', '5.0', '5.0.0', 'soham ', 'book', '']\n",
      "Integer list is [1, 4]\n",
      "Float list is [21.2, 5.0]\n",
      "Boolean list is [True, True, True, False]\n"
     ]
    }
   ],
   "source": [
    "# 10. Write code to demonstrate type casting with list elements.\n",
    "\n",
    "listString=[\"1\",\"4\",\"21.2\",\"5.0\",\"5.0.0\",\"soham \",\"book\",\"\"]\n",
    "print(f\"Original list is {listString}\")\n",
    "listInteger=[]\n",
    "listFloat=[]\n",
    "listBoolean=[]\n",
    "for string in listString:\n",
    "    if \".\" in string:\n",
    "        if string.replace(\".\",\"\",1).isdigit():\n",
    "            listFloat.append(float(string))\n",
    "        else:\n",
    "            listBoolean.append(bool(string))\n",
    "    else:\n",
    "        if string.isdigit():\n",
    "            listInteger.append(int(string))\n",
    "        else:\n",
    "            listBoolean.append(bool(string))\n",
    "print(f\"Integer list is {listInteger}\")\n",
    "print(f\"Float list is {listFloat}\")\n",
    "print(f\"Boolean list is {listBoolean}\")"
   ]
  },
  {
   "cell_type": "code",
   "execution_count": 45,
   "metadata": {},
   "outputs": [
    {
     "name": "stdout",
     "output_type": "stream",
     "text": [
      "-1 is negative.\n"
     ]
    }
   ],
   "source": [
    "# 11. Write a program that checks if a number is positive, negative, or zero.\n",
    "\n",
    "num=int(input(\"Enter a number:\"))\n",
    "if num==0:\n",
    "    print(f\"{num} is zero.\")\n",
    "elif num>0:\n",
    "    print(f\"{num} is positive.\")\n",
    "else:\n",
    "    print(f\"{num} is negative.\")"
   ]
  },
  {
   "cell_type": "code",
   "execution_count": 46,
   "metadata": {},
   "outputs": [
    {
     "name": "stdout",
     "output_type": "stream",
     "text": [
      "Numbers from 1 to 10 are : \n",
      "1\n",
      "2\n",
      "3\n",
      "4\n",
      "5\n",
      "6\n",
      "7\n",
      "8\n",
      "9\n",
      "10\n"
     ]
    }
   ],
   "source": [
    "# 12. Write a for loop to print numbers from 1 to 10.\n",
    "\n",
    "print(\"Numbers from 1 to 10 are : \")\n",
    "for i in range(1,11):\n",
    "    print(i)"
   ]
  },
  {
   "cell_type": "code",
   "execution_count": 47,
   "metadata": {},
   "outputs": [
    {
     "name": "stdout",
     "output_type": "stream",
     "text": [
      "Sum of all even numbers between 1 and 50 is 650\n"
     ]
    }
   ],
   "source": [
    "# 13. Write a Python program to find the sum of all even numbers between 1 and 50.\n",
    "\n",
    "print(\"Sum of all even numbers between 1 and 50 is \",end=\"\")\n",
    "sum=0\n",
    "for i in range(1,51):\n",
    "    if i%2==0:\n",
    "        sum=sum+i\n",
    "print(sum)"
   ]
  },
  {
   "cell_type": "code",
   "execution_count": 48,
   "metadata": {},
   "outputs": [
    {
     "name": "stdout",
     "output_type": "stream",
     "text": [
      "Reverse of Soham is mahoS\n"
     ]
    }
   ],
   "source": [
    "# 14. Write a program to reverse a string using a while loop.\n",
    "\n",
    "string=input(\"Enter a string value : \")\n",
    "i=len(string)-1\n",
    "revString=\"\"\n",
    "while i>=0:\n",
    "    revString=revString+string[i]\n",
    "    i=i-1\n",
    "print(f\"Reverse of {string} is {revString}\")"
   ]
  },
  {
   "cell_type": "code",
   "execution_count": 49,
   "metadata": {},
   "outputs": [
    {
     "name": "stdout",
     "output_type": "stream",
     "text": [
      "Factorial of 5 is 120\n"
     ]
    }
   ],
   "source": [
    "# 15. Write a Python program to calculate the factorial of a number provided by the user using a while loop.\n",
    "\n",
    "num=int(input(\"Enter a number to calculate factorial:\"))\n",
    "i=num\n",
    "factorial=1\n",
    "while i>=1:\n",
    "    factorial=factorial*i\n",
    "    i=i-1\n",
    "print(f\"Factorial of {num} is {factorial}\")"
   ]
  }
 ],
 "metadata": {
  "kernelspec": {
   "display_name": "Python 3",
   "language": "python",
   "name": "python3"
  },
  "language_info": {
   "codemirror_mode": {
    "name": "ipython",
    "version": 3
   },
   "file_extension": ".py",
   "mimetype": "text/x-python",
   "name": "python",
   "nbconvert_exporter": "python",
   "pygments_lexer": "ipython3",
   "version": "3.13.2"
  }
 },
 "nbformat": 4,
 "nbformat_minor": 2
}
